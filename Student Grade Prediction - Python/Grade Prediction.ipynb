{
 "cells": [
  {
   "cell_type": "markdown",
   "id": "6c263951",
   "metadata": {},
   "source": [
    "# Import Libraries"
   ]
  },
  {
   "cell_type": "code",
   "execution_count": 251,
   "id": "f8601dd0",
   "metadata": {},
   "outputs": [],
   "source": [
    "import numpy as np\n",
    "import pandas as pd\n",
    "import pickle as pkl\n",
    "import matplotlib.pyplot as plt\n",
    "import seaborn as sns\n",
    "from sklearn.tree import DecisionTreeClassifier\n",
    "from sklearn.tree import plot_tree\n",
    "from sklearn import datasets, metrics\n",
    "from sklearn.model_selection import train_test_split\n",
    "from sklearn.model_selection import cross_val_score\n",
    "from sklearn.metrics import confusion_matrix\n",
    "from sklearn.metrics import plot_confusion_matrix\n",
    "%matplotlib inline\n",
    "pd.set_option(\"display.max_rows\", None, \"display.max_columns\", None)"
   ]
  },
  {
   "cell_type": "markdown",
   "id": "62abf743",
   "metadata": {},
   "source": [
    "# Data Preparation"
   ]
  },
  {
   "cell_type": "code",
   "execution_count": 3,
   "id": "e261f12a",
   "metadata": {},
   "outputs": [],
   "source": [
    "data = pd.read_csv('student-mat.csv')"
   ]
  },
  {
   "cell_type": "code",
   "execution_count": 4,
   "id": "fdc008f0",
   "metadata": {},
   "outputs": [
    {
     "data": {
      "text/html": [
       "<div>\n",
       "<style scoped>\n",
       "    .dataframe tbody tr th:only-of-type {\n",
       "        vertical-align: middle;\n",
       "    }\n",
       "\n",
       "    .dataframe tbody tr th {\n",
       "        vertical-align: top;\n",
       "    }\n",
       "\n",
       "    .dataframe thead th {\n",
       "        text-align: right;\n",
       "    }\n",
       "</style>\n",
       "<table border=\"1\" class=\"dataframe\">\n",
       "  <thead>\n",
       "    <tr style=\"text-align: right;\">\n",
       "      <th></th>\n",
       "      <th>school</th>\n",
       "      <th>sex</th>\n",
       "      <th>age</th>\n",
       "      <th>address</th>\n",
       "      <th>famsize</th>\n",
       "      <th>Pstatus</th>\n",
       "      <th>Medu</th>\n",
       "      <th>Fedu</th>\n",
       "      <th>Mjob</th>\n",
       "      <th>Fjob</th>\n",
       "      <th>...</th>\n",
       "      <th>famrel</th>\n",
       "      <th>freetime</th>\n",
       "      <th>goout</th>\n",
       "      <th>Dalc</th>\n",
       "      <th>Walc</th>\n",
       "      <th>health</th>\n",
       "      <th>absences</th>\n",
       "      <th>G1</th>\n",
       "      <th>G2</th>\n",
       "      <th>G3</th>\n",
       "    </tr>\n",
       "  </thead>\n",
       "  <tbody>\n",
       "    <tr>\n",
       "      <th>0</th>\n",
       "      <td>GP</td>\n",
       "      <td>F</td>\n",
       "      <td>18</td>\n",
       "      <td>U</td>\n",
       "      <td>GT3</td>\n",
       "      <td>A</td>\n",
       "      <td>4</td>\n",
       "      <td>4</td>\n",
       "      <td>at_home</td>\n",
       "      <td>teacher</td>\n",
       "      <td>...</td>\n",
       "      <td>4</td>\n",
       "      <td>3</td>\n",
       "      <td>4</td>\n",
       "      <td>1</td>\n",
       "      <td>1</td>\n",
       "      <td>3</td>\n",
       "      <td>6</td>\n",
       "      <td>5</td>\n",
       "      <td>6</td>\n",
       "      <td>6</td>\n",
       "    </tr>\n",
       "    <tr>\n",
       "      <th>1</th>\n",
       "      <td>GP</td>\n",
       "      <td>F</td>\n",
       "      <td>17</td>\n",
       "      <td>U</td>\n",
       "      <td>GT3</td>\n",
       "      <td>T</td>\n",
       "      <td>1</td>\n",
       "      <td>1</td>\n",
       "      <td>at_home</td>\n",
       "      <td>other</td>\n",
       "      <td>...</td>\n",
       "      <td>5</td>\n",
       "      <td>3</td>\n",
       "      <td>3</td>\n",
       "      <td>1</td>\n",
       "      <td>1</td>\n",
       "      <td>3</td>\n",
       "      <td>4</td>\n",
       "      <td>5</td>\n",
       "      <td>5</td>\n",
       "      <td>6</td>\n",
       "    </tr>\n",
       "    <tr>\n",
       "      <th>2</th>\n",
       "      <td>GP</td>\n",
       "      <td>F</td>\n",
       "      <td>15</td>\n",
       "      <td>U</td>\n",
       "      <td>LE3</td>\n",
       "      <td>T</td>\n",
       "      <td>1</td>\n",
       "      <td>1</td>\n",
       "      <td>at_home</td>\n",
       "      <td>other</td>\n",
       "      <td>...</td>\n",
       "      <td>4</td>\n",
       "      <td>3</td>\n",
       "      <td>2</td>\n",
       "      <td>2</td>\n",
       "      <td>3</td>\n",
       "      <td>3</td>\n",
       "      <td>10</td>\n",
       "      <td>7</td>\n",
       "      <td>8</td>\n",
       "      <td>10</td>\n",
       "    </tr>\n",
       "    <tr>\n",
       "      <th>3</th>\n",
       "      <td>GP</td>\n",
       "      <td>F</td>\n",
       "      <td>15</td>\n",
       "      <td>U</td>\n",
       "      <td>GT3</td>\n",
       "      <td>T</td>\n",
       "      <td>4</td>\n",
       "      <td>2</td>\n",
       "      <td>health</td>\n",
       "      <td>services</td>\n",
       "      <td>...</td>\n",
       "      <td>3</td>\n",
       "      <td>2</td>\n",
       "      <td>2</td>\n",
       "      <td>1</td>\n",
       "      <td>1</td>\n",
       "      <td>5</td>\n",
       "      <td>2</td>\n",
       "      <td>15</td>\n",
       "      <td>14</td>\n",
       "      <td>15</td>\n",
       "    </tr>\n",
       "    <tr>\n",
       "      <th>4</th>\n",
       "      <td>GP</td>\n",
       "      <td>F</td>\n",
       "      <td>16</td>\n",
       "      <td>U</td>\n",
       "      <td>GT3</td>\n",
       "      <td>T</td>\n",
       "      <td>3</td>\n",
       "      <td>3</td>\n",
       "      <td>other</td>\n",
       "      <td>other</td>\n",
       "      <td>...</td>\n",
       "      <td>4</td>\n",
       "      <td>3</td>\n",
       "      <td>2</td>\n",
       "      <td>1</td>\n",
       "      <td>2</td>\n",
       "      <td>5</td>\n",
       "      <td>4</td>\n",
       "      <td>6</td>\n",
       "      <td>10</td>\n",
       "      <td>10</td>\n",
       "    </tr>\n",
       "  </tbody>\n",
       "</table>\n",
       "<p>5 rows × 33 columns</p>\n",
       "</div>"
      ],
      "text/plain": [
       "  school sex  age address famsize Pstatus  Medu  Fedu     Mjob      Fjob  ...  \\\n",
       "0     GP   F   18       U     GT3       A     4     4  at_home   teacher  ...   \n",
       "1     GP   F   17       U     GT3       T     1     1  at_home     other  ...   \n",
       "2     GP   F   15       U     LE3       T     1     1  at_home     other  ...   \n",
       "3     GP   F   15       U     GT3       T     4     2   health  services  ...   \n",
       "4     GP   F   16       U     GT3       T     3     3    other     other  ...   \n",
       "\n",
       "  famrel freetime  goout  Dalc  Walc health absences  G1  G2  G3  \n",
       "0      4        3      4     1     1      3        6   5   6   6  \n",
       "1      5        3      3     1     1      3        4   5   5   6  \n",
       "2      4        3      2     2     3      3       10   7   8  10  \n",
       "3      3        2      2     1     1      5        2  15  14  15  \n",
       "4      4        3      2     1     2      5        4   6  10  10  \n",
       "\n",
       "[5 rows x 33 columns]"
      ]
     },
     "execution_count": 4,
     "metadata": {},
     "output_type": "execute_result"
    }
   ],
   "source": [
    "data.head()"
   ]
  },
  {
   "cell_type": "code",
   "execution_count": 8,
   "id": "0ff94e47",
   "metadata": {},
   "outputs": [
    {
     "data": {
      "text/plain": [
       "395"
      ]
     },
     "execution_count": 8,
     "metadata": {},
     "output_type": "execute_result"
    }
   ],
   "source": [
    "len(data)"
   ]
  },
  {
   "cell_type": "code",
   "execution_count": 9,
   "id": "162815d1",
   "metadata": {},
   "outputs": [
    {
     "data": {
      "text/html": [
       "<div>\n",
       "<style scoped>\n",
       "    .dataframe tbody tr th:only-of-type {\n",
       "        vertical-align: middle;\n",
       "    }\n",
       "\n",
       "    .dataframe tbody tr th {\n",
       "        vertical-align: top;\n",
       "    }\n",
       "\n",
       "    .dataframe thead th {\n",
       "        text-align: right;\n",
       "    }\n",
       "</style>\n",
       "<table border=\"1\" class=\"dataframe\">\n",
       "  <thead>\n",
       "    <tr style=\"text-align: right;\">\n",
       "      <th></th>\n",
       "      <th>G1</th>\n",
       "      <th>G2</th>\n",
       "      <th>G3</th>\n",
       "    </tr>\n",
       "  </thead>\n",
       "  <tbody>\n",
       "    <tr>\n",
       "      <th>0</th>\n",
       "      <td>5</td>\n",
       "      <td>6</td>\n",
       "      <td>6</td>\n",
       "    </tr>\n",
       "    <tr>\n",
       "      <th>1</th>\n",
       "      <td>5</td>\n",
       "      <td>5</td>\n",
       "      <td>6</td>\n",
       "    </tr>\n",
       "    <tr>\n",
       "      <th>2</th>\n",
       "      <td>7</td>\n",
       "      <td>8</td>\n",
       "      <td>10</td>\n",
       "    </tr>\n",
       "    <tr>\n",
       "      <th>3</th>\n",
       "      <td>15</td>\n",
       "      <td>14</td>\n",
       "      <td>15</td>\n",
       "    </tr>\n",
       "    <tr>\n",
       "      <th>4</th>\n",
       "      <td>6</td>\n",
       "      <td>10</td>\n",
       "      <td>10</td>\n",
       "    </tr>\n",
       "  </tbody>\n",
       "</table>\n",
       "</div>"
      ],
      "text/plain": [
       "   G1  G2  G3\n",
       "0   5   6   6\n",
       "1   5   5   6\n",
       "2   7   8  10\n",
       "3  15  14  15\n",
       "4   6  10  10"
      ]
     },
     "execution_count": 9,
     "metadata": {},
     "output_type": "execute_result"
    }
   ],
   "source": [
    "df = data.iloc[:,-3:]\n",
    "df.head()"
   ]
  },
  {
   "cell_type": "code",
   "execution_count": 37,
   "id": "e41a38d8",
   "metadata": {},
   "outputs": [],
   "source": [
    "def grade(grade_points):\n",
    "    if grade_points >= 9.0 and grade_points <= 10.0:\n",
    "        return \"O\"\n",
    "    elif grade_points >= 8.0 and grade_points <= 8.9:\n",
    "        return \"D+\"\n",
    "    elif grade_points >= 7.5 and grade_points <= 7.9:\n",
    "        return \"D\"\n",
    "    elif grade_points >= 7.0 and grade_points <= 7.4:\n",
    "        return \"A+\"\n",
    "    elif grade_points >= 6.0 and grade_points <= 6.9:\n",
    "        return \"A\"\n",
    "    elif grade_points >= 5.0 and grade_points <= 5.9:\n",
    "        return \"B\"\n",
    "    elif grade_points >= 4.0 and grade_points <= 4.9:\n",
    "        return \"C\"\n",
    "    elif grade_points >= 0.1 and grade_points <= 3.9:\n",
    "        return \"RA\"\n",
    "    elif grade_points == 0.0 and grade_points == 0.0:\n",
    "        return \"AAA\""
   ]
  },
  {
   "cell_type": "code",
   "execution_count": 41,
   "id": "7614962c",
   "metadata": {},
   "outputs": [
    {
     "data": {
      "text/plain": [
       "395"
      ]
     },
     "execution_count": 41,
     "metadata": {},
     "output_type": "execute_result"
    }
   ],
   "source": [
    "lists = []\n",
    "for index, row in df.iterrows():\n",
    "    yr_1 = row[0]/2\n",
    "    yr_2 = row[1]/2\n",
    "    yr_3 = row[2]/2\n",
    "    letter_grade_yr_1 = grade(yr_1)\n",
    "    letter_grade_yr_2 = grade(yr_2)    \n",
    "    letter_grade_yr_3 = grade(yr_3)\n",
    "    lists.append([letter_grade_yr_3,letter_grade_yr_3,letter_grade_yr_3])\n",
    "new_df = pd.DataFrame(lists, columns = ['year_1','year_2','year_3'])\n",
    "new_df.head()\n",
    "len(new_df)"
   ]
  },
  {
   "cell_type": "code",
   "execution_count": 49,
   "id": "d010eb3b",
   "metadata": {},
   "outputs": [
    {
     "data": {
      "text/html": [
       "<div>\n",
       "<style scoped>\n",
       "    .dataframe tbody tr th:only-of-type {\n",
       "        vertical-align: middle;\n",
       "    }\n",
       "\n",
       "    .dataframe tbody tr th {\n",
       "        vertical-align: top;\n",
       "    }\n",
       "\n",
       "    .dataframe thead th {\n",
       "        text-align: right;\n",
       "    }\n",
       "</style>\n",
       "<table border=\"1\" class=\"dataframe\">\n",
       "  <thead>\n",
       "    <tr style=\"text-align: right;\">\n",
       "      <th></th>\n",
       "      <th>year_1</th>\n",
       "      <th>year_2</th>\n",
       "      <th>year_3</th>\n",
       "    </tr>\n",
       "  </thead>\n",
       "  <tbody>\n",
       "    <tr>\n",
       "      <th>0</th>\n",
       "      <td>RA</td>\n",
       "      <td>RA</td>\n",
       "      <td>RA</td>\n",
       "    </tr>\n",
       "    <tr>\n",
       "      <th>1</th>\n",
       "      <td>RA</td>\n",
       "      <td>RA</td>\n",
       "      <td>RA</td>\n",
       "    </tr>\n",
       "    <tr>\n",
       "      <th>2</th>\n",
       "      <td>B</td>\n",
       "      <td>B</td>\n",
       "      <td>B</td>\n",
       "    </tr>\n",
       "    <tr>\n",
       "      <th>3</th>\n",
       "      <td>D</td>\n",
       "      <td>D</td>\n",
       "      <td>D</td>\n",
       "    </tr>\n",
       "    <tr>\n",
       "      <th>4</th>\n",
       "      <td>B</td>\n",
       "      <td>B</td>\n",
       "      <td>B</td>\n",
       "    </tr>\n",
       "  </tbody>\n",
       "</table>\n",
       "</div>"
      ],
      "text/plain": [
       "  year_1 year_2 year_3\n",
       "0     RA     RA     RA\n",
       "1     RA     RA     RA\n",
       "2      B      B      B\n",
       "3      D      D      D\n",
       "4      B      B      B"
      ]
     },
     "execution_count": 49,
     "metadata": {},
     "output_type": "execute_result"
    }
   ],
   "source": [
    "new_df.head()"
   ]
  },
  {
   "cell_type": "code",
   "execution_count": 45,
   "id": "711629c0",
   "metadata": {},
   "outputs": [],
   "source": [
    "def shuffle_years(year):\n",
    "    return new_df[year].sample(frac=1)"
   ]
  },
  {
   "cell_type": "code",
   "execution_count": 72,
   "id": "784e0d84",
   "metadata": {},
   "outputs": [
    {
     "data": {
      "text/plain": [
       "'RA'"
      ]
     },
     "execution_count": 72,
     "metadata": {},
     "output_type": "execute_result"
    }
   ],
   "source": [
    "new_df.year_2[0]"
   ]
  },
  {
   "cell_type": "code",
   "execution_count": 92,
   "id": "f7912fce",
   "metadata": {},
   "outputs": [],
   "source": [
    "def append_data_once(year,newly_created_data):\n",
    "    shuffle_list_1 = []\n",
    "    shuffle_list_2 = []\n",
    "    shuffle_list_3 = []\n",
    "    shuffled_year = shuffle_years(year)\n",
    "\n",
    "    j = 0\n",
    "    if year == 'year_1':\n",
    "        for i in shuffled_year:\n",
    "            shuffle_list_1.append(i)\n",
    "            shuffle_list_2.append(new_df.year_2[j])\n",
    "            shuffle_list_3.append(new_df.year_3[j])\n",
    "            j += 1\n",
    "    elif year == 'year_2':\n",
    "        for i in shuffled_year:\n",
    "            shuffle_list_1.append(new_df.year_1[j])\n",
    "            shuffle_list_2.append(i)\n",
    "            shuffle_list_3.append(new_df.year_3[j])\n",
    "            j += 1\n",
    "    elif year == 'year_3':\n",
    "        for i in shuffled_year:\n",
    "            shuffle_list_1.append(new_df.year_1[j])\n",
    "            shuffle_list_2.append(new_df.year_2[j])\n",
    "            shuffle_list_3.append(i)\n",
    "            j += 1\n",
    "\n",
    "    years_dict = {'year_1': shuffle_list_1,'year_2': shuffle_list_2, 'year_3': shuffle_list_3}\n",
    "    append_df = pd.DataFrame(years_dict, columns=['year_1','year_2','year_3'])\n",
    "    return pd.concat([newly_created_data,append_df],ignore_index = True, axis = 0)"
   ]
  },
  {
   "cell_type": "code",
   "execution_count": 103,
   "id": "69d74ee9",
   "metadata": {},
   "outputs": [],
   "source": [
    "def append_data_twice(year1,year2,newly_created_data):\n",
    "    shuffle_list_1 = []\n",
    "    shuffle_list_2 = []\n",
    "    shuffle_list_3 = []\n",
    "    shuffled_year1 = shuffle_years(year1)\n",
    "    shuffled_year2 = shuffle_years(year2)\n",
    "\n",
    "    k = 0\n",
    "    if year1 == 'year_1' and year2 == 'year_2':\n",
    "        for (i,j) in zip(shuffled_year1,shuffled_year2):\n",
    "            shuffle_list_1.append(i)\n",
    "            shuffle_list_2.append(j)\n",
    "            shuffle_list_3.append(new_df.year_3[k])\n",
    "            k += 1\n",
    "    elif year1 == 'year_1' and year2 == 'year_3':\n",
    "        for (i,j) in zip(shuffled_year1,shuffled_year2):\n",
    "            shuffle_list_1.append(i)\n",
    "            shuffle_list_2.append(new_df.year_2[k])\n",
    "            shuffle_list_3.append(j)\n",
    "            k += 1\n",
    "    elif year1 == 'year_2' and year2 == 'year_3':\n",
    "        for (i,j) in zip(shuffled_year1,shuffled_year2):\n",
    "            shuffle_list_1.append(new_df.year_1[k])\n",
    "            shuffle_list_2.append(i)\n",
    "            shuffle_list_3.append(j)\n",
    "            k += 1\n",
    "    elif year1 == 'year_2' and year2 == 'year_1':\n",
    "        for (i,j) in zip(shuffled_year1,shuffled_year2):\n",
    "            shuffle_list_1.append(i)\n",
    "            shuffle_list_2.append(j)\n",
    "            shuffle_list_3.append(new_df.year_3[k])\n",
    "            k += 1\n",
    "    elif year1 == 'year_3' and year2 == 'year_2':\n",
    "        for (i,j) in zip(shuffled_year1,shuffled_year2):\n",
    "            shuffle_list_1.append(new_df.year_1[k])\n",
    "            shuffle_list_2.append(i)\n",
    "            shuffle_list_3.append(j)\n",
    "            k += 1\n",
    "    elif year1 == 'year_3' and year2 == 'year_1':\n",
    "        for (i,j) in zip(shuffled_year1,shuffled_year2):\n",
    "            shuffle_list_1.append(i)\n",
    "            shuffle_list_2.append(new_df.year_2[k])\n",
    "            shuffle_list_3.append(j)\n",
    "            k += 1\n",
    "\n",
    "    years_dict = {'year_1': shuffle_list_1,'year_2': shuffle_list_2, 'year_3': shuffle_list_3}\n",
    "    append_df = pd.DataFrame(years_dict, columns=['year_1','year_2','year_3'])\n",
    "    return pd.concat([newly_created_data,append_df],ignore_index = True, axis = 0)"
   ]
  },
  {
   "cell_type": "code",
   "execution_count": 114,
   "id": "a6eaaaab",
   "metadata": {},
   "outputs": [],
   "source": [
    "def shuffle_all(year1,year2,year3,newly_created_data):\n",
    "    shuffle_list_1 = []\n",
    "    shuffle_list_2 = []\n",
    "    shuffle_list_3 = []\n",
    "    shuffled_year1 = shuffle_years(year1)\n",
    "    shuffled_year2 = shuffle_years(year2)\n",
    "    shuffled_year3 = shuffle_years(year3)\n",
    "    \n",
    "    for (i,j,k) in zip(shuffled_year1,shuffled_year2,shuffled_year3):\n",
    "        shuffle_list_1.append(i)\n",
    "        shuffle_list_2.append(j)\n",
    "        shuffle_list_3.append(k)\n",
    "    \n",
    "    years_dict = {'year_1': shuffle_list_1,'year_2': shuffle_list_2, 'year_3': shuffle_list_3}\n",
    "    append_df = pd.DataFrame(years_dict, columns=['year_1','year_2','year_3'])\n",
    "    return pd.concat([newly_created_data,append_df],ignore_index = True, axis = 0)"
   ]
  },
  {
   "cell_type": "code",
   "execution_count": 97,
   "id": "7227a3fc",
   "metadata": {},
   "outputs": [],
   "source": [
    "append_year_1 = append_data_once('year_1',new_df)"
   ]
  },
  {
   "cell_type": "code",
   "execution_count": 98,
   "id": "7e277416",
   "metadata": {},
   "outputs": [],
   "source": [
    "append_year_2 = append_data_once('year_2',append_year_1)"
   ]
  },
  {
   "cell_type": "code",
   "execution_count": 100,
   "id": "2c248047",
   "metadata": {},
   "outputs": [],
   "source": [
    "append_year_3 = append_data_once('year_3',append_year_2)"
   ]
  },
  {
   "cell_type": "code",
   "execution_count": 105,
   "id": "ddd3b206",
   "metadata": {},
   "outputs": [],
   "source": [
    "year_12 = append_data_twice('year_1','year_2',append_year_3)"
   ]
  },
  {
   "cell_type": "code",
   "execution_count": 107,
   "id": "9b94b446",
   "metadata": {},
   "outputs": [],
   "source": [
    "year_13 = append_data_twice('year_1','year_3',year_12)"
   ]
  },
  {
   "cell_type": "code",
   "execution_count": 108,
   "id": "2624b82a",
   "metadata": {},
   "outputs": [],
   "source": [
    "year_23 = append_data_twice('year_2','year_3',year_13)"
   ]
  },
  {
   "cell_type": "code",
   "execution_count": 109,
   "id": "c9124b08",
   "metadata": {},
   "outputs": [],
   "source": [
    "year_21 = append_data_twice('year_2','year_1',year_23)"
   ]
  },
  {
   "cell_type": "code",
   "execution_count": 110,
   "id": "9dceac5b",
   "metadata": {},
   "outputs": [],
   "source": [
    "year_32 = append_data_twice('year_3','year_1',year_21)"
   ]
  },
  {
   "cell_type": "code",
   "execution_count": 111,
   "id": "4155f955",
   "metadata": {},
   "outputs": [],
   "source": [
    "year_31 = append_data_twice('year_3','year_1',year_32)"
   ]
  },
  {
   "cell_type": "code",
   "execution_count": 116,
   "id": "9aba896a",
   "metadata": {},
   "outputs": [
    {
     "data": {
      "text/html": [
       "<div>\n",
       "<style scoped>\n",
       "    .dataframe tbody tr th:only-of-type {\n",
       "        vertical-align: middle;\n",
       "    }\n",
       "\n",
       "    .dataframe tbody tr th {\n",
       "        vertical-align: top;\n",
       "    }\n",
       "\n",
       "    .dataframe thead th {\n",
       "        text-align: right;\n",
       "    }\n",
       "</style>\n",
       "<table border=\"1\" class=\"dataframe\">\n",
       "  <thead>\n",
       "    <tr style=\"text-align: right;\">\n",
       "      <th></th>\n",
       "      <th>year_1</th>\n",
       "      <th>year_2</th>\n",
       "      <th>year_3</th>\n",
       "    </tr>\n",
       "  </thead>\n",
       "  <tbody>\n",
       "    <tr>\n",
       "      <th>4340</th>\n",
       "      <td>A+</td>\n",
       "      <td>AAA</td>\n",
       "      <td>A</td>\n",
       "    </tr>\n",
       "    <tr>\n",
       "      <th>4341</th>\n",
       "      <td>RA</td>\n",
       "      <td>O</td>\n",
       "      <td>C</td>\n",
       "    </tr>\n",
       "    <tr>\n",
       "      <th>4342</th>\n",
       "      <td>C</td>\n",
       "      <td>B</td>\n",
       "      <td>C</td>\n",
       "    </tr>\n",
       "    <tr>\n",
       "      <th>4343</th>\n",
       "      <td>RA</td>\n",
       "      <td>A</td>\n",
       "      <td>RA</td>\n",
       "    </tr>\n",
       "    <tr>\n",
       "      <th>4344</th>\n",
       "      <td>AAA</td>\n",
       "      <td>C</td>\n",
       "      <td>B</td>\n",
       "    </tr>\n",
       "  </tbody>\n",
       "</table>\n",
       "</div>"
      ],
      "text/plain": [
       "     year_1 year_2 year_3\n",
       "4340     A+    AAA      A\n",
       "4341     RA      O      C\n",
       "4342      C      B      C\n",
       "4343     RA      A     RA\n",
       "4344    AAA      C      B"
      ]
     },
     "execution_count": 116,
     "metadata": {},
     "output_type": "execute_result"
    }
   ],
   "source": [
    "final_data = shuffle_all('year_1','year_2','year_3',year_31)\n",
    "final_data.tail()"
   ]
  },
  {
   "cell_type": "code",
   "execution_count": 118,
   "id": "d885972c",
   "metadata": {},
   "outputs": [
    {
     "data": {
      "text/plain": [
       "year_1    0\n",
       "year_2    0\n",
       "year_3    0\n",
       "dtype: int64"
      ]
     },
     "execution_count": 118,
     "metadata": {},
     "output_type": "execute_result"
    }
   ],
   "source": [
    "final_data.isnull().sum()"
   ]
  },
  {
   "cell_type": "code",
   "execution_count": 120,
   "id": "73c298e2",
   "metadata": {},
   "outputs": [
    {
     "data": {
      "text/plain": [
       "4345"
      ]
     },
     "execution_count": 120,
     "metadata": {},
     "output_type": "execute_result"
    }
   ],
   "source": [
    "len(final_data)"
   ]
  },
  {
   "cell_type": "code",
   "execution_count": 257,
   "id": "cdfa17b7",
   "metadata": {},
   "outputs": [],
   "source": [
    "final_data.to_csv('students.csv')"
   ]
  },
  {
   "cell_type": "markdown",
   "id": "3b3d8b9b",
   "metadata": {},
   "source": [
    "# Data Visualization"
   ]
  },
  {
   "cell_type": "code",
   "execution_count": 129,
   "id": "2b299318",
   "metadata": {},
   "outputs": [
    {
     "data": {
      "text/plain": [
       "<function matplotlib.pyplot.tight_layout(*, pad=1.08, h_pad=None, w_pad=None, rect=None)>"
      ]
     },
     "execution_count": 129,
     "metadata": {},
     "output_type": "execute_result"
    },
    {
     "data": {
      "image/png": "[encoded data removed]",
      "text/plain": [
       "<Figure size 1152x288 with 3 Axes>"
      ]
     },
     "metadata": {
      "needs_background": "light"
     },
     "output_type": "display_data"
    }
   ],
   "source": [
    "plt.figure(figsize=(16,4))\n",
    "plt.subplot(1,3,1)\n",
    "final_data.groupby(['year_1'])['year_1'].count().sort_values(ascending=False).plot.bar()\n",
    "plt.ylabel('count')\n",
    "plt.subplot(1,3,2)\n",
    "final_data.groupby(['year_2'])['year_2'].count().sort_values(ascending=False).plot.bar()\n",
    "plt.ylabel('count')\n",
    "plt.subplot(1,3,3)\n",
    "final_data.groupby(['year_3'])['year_3'].count().sort_values(ascending=False).plot.bar()\n",
    "plt.ylabel('count')\n",
    "plt.tight_layout"
   ]
  },
  {
   "cell_type": "code",
   "execution_count": 152,
   "id": "d767680d",
   "metadata": {},
   "outputs": [
    {
     "name": "stdout",
     "output_type": "stream",
     "text": [
      "B      1133\n",
      "A       682\n",
      "C       660\n",
      "AAA     418\n",
      "D       363\n",
      "RA      352\n",
      "A+      297\n",
      "D+      242\n",
      "O       198\n",
      "Name: year_1, dtype: int64\n"
     ]
    }
   ],
   "source": [
    "print(final_data['year_1'].value_counts())"
   ]
  },
  {
   "cell_type": "code",
   "execution_count": 149,
   "id": "92108290",
   "metadata": {},
   "outputs": [
    {
     "name": "stdout",
     "output_type": "stream",
     "text": [
      "['RA' 'B' 'D' 'O' 'C' 'A' 'A+' 'D+' 'AAA']\n"
     ]
    }
   ],
   "source": [
    "print(final_data.year_1.unique())"
   ]
  },
  {
   "cell_type": "code",
   "execution_count": 157,
   "id": "8e0047ab",
   "metadata": {},
   "outputs": [],
   "source": [
    "labels = ['RA', 'B', 'D', 'O', 'C', 'A', 'A+', 'D+', 'AAA']\n",
    "sizes = [352,1133,363,198,660,682,297,242,418]\n",
    "explode = (0, 0.1, 0, 0, 0, 0, 0, 0, 0)"
   ]
  },
  {
   "cell_type": "code",
   "execution_count": 161,
   "id": "b0fe1a93",
   "metadata": {},
   "outputs": [
    {
     "data": {
      "image/png": "[encoded data removed]",
      "text/plain": [
       "<Figure size 1152x576 with 1 Axes>"
      ]
     },
     "metadata": {},
     "output_type": "display_data"
    }
   ],
   "source": [
    "fig1, ax1 = plt.subplots(figsize= (16,8))\n",
    "\n",
    "ax1.pie(sizes, labels=labels, explode=explode, autopct='%1.1f%%',\n",
    "        shadow=True, startangle=90)\n",
    "ax1.axis('equal')  # Equal aspect ratio ensures that pie is drawn as a circle.\n",
    "\n",
    "plt.show()"
   ]
  },
  {
   "cell_type": "markdown",
   "id": "b1a81d4d",
   "metadata": {},
   "source": [
    "# Feature Engineering"
   ]
  },
  {
   "cell_type": "code",
   "execution_count": 162,
   "id": "ec5deea5",
   "metadata": {},
   "outputs": [
    {
     "data": {
      "text/html": [
       "<div>\n",
       "<style scoped>\n",
       "    .dataframe tbody tr th:only-of-type {\n",
       "        vertical-align: middle;\n",
       "    }\n",
       "\n",
       "    .dataframe tbody tr th {\n",
       "        vertical-align: top;\n",
       "    }\n",
       "\n",
       "    .dataframe thead th {\n",
       "        text-align: right;\n",
       "    }\n",
       "</style>\n",
       "<table border=\"1\" class=\"dataframe\">\n",
       "  <thead>\n",
       "    <tr style=\"text-align: right;\">\n",
       "      <th></th>\n",
       "      <th>year_1</th>\n",
       "      <th>year_2</th>\n",
       "      <th>year_3</th>\n",
       "    </tr>\n",
       "  </thead>\n",
       "  <tbody>\n",
       "    <tr>\n",
       "      <th>0</th>\n",
       "      <td>RA</td>\n",
       "      <td>RA</td>\n",
       "      <td>RA</td>\n",
       "    </tr>\n",
       "    <tr>\n",
       "      <th>1</th>\n",
       "      <td>RA</td>\n",
       "      <td>RA</td>\n",
       "      <td>RA</td>\n",
       "    </tr>\n",
       "    <tr>\n",
       "      <th>2</th>\n",
       "      <td>B</td>\n",
       "      <td>B</td>\n",
       "      <td>B</td>\n",
       "    </tr>\n",
       "    <tr>\n",
       "      <th>3</th>\n",
       "      <td>D</td>\n",
       "      <td>D</td>\n",
       "      <td>D</td>\n",
       "    </tr>\n",
       "    <tr>\n",
       "      <th>4</th>\n",
       "      <td>B</td>\n",
       "      <td>B</td>\n",
       "      <td>B</td>\n",
       "    </tr>\n",
       "  </tbody>\n",
       "</table>\n",
       "</div>"
      ],
      "text/plain": [
       "  year_1 year_2 year_3\n",
       "0     RA     RA     RA\n",
       "1     RA     RA     RA\n",
       "2      B      B      B\n",
       "3      D      D      D\n",
       "4      B      B      B"
      ]
     },
     "execution_count": 162,
     "metadata": {},
     "output_type": "execute_result"
    }
   ],
   "source": [
    "final_data.head()"
   ]
  },
  {
   "cell_type": "code",
   "execution_count": 163,
   "id": "d7e92ed7",
   "metadata": {},
   "outputs": [
    {
     "data": {
      "text/plain": [
       "4345"
      ]
     },
     "execution_count": 163,
     "metadata": {},
     "output_type": "execute_result"
    }
   ],
   "source": [
    "len(final_data)"
   ]
  },
  {
   "cell_type": "code",
   "execution_count": 168,
   "id": "c09f2992",
   "metadata": {},
   "outputs": [],
   "source": [
    "X = final_data.iloc[:,0:2]\n",
    "y = final_data.iloc[:,-1:]"
   ]
  },
  {
   "cell_type": "code",
   "execution_count": 169,
   "id": "58c4255a",
   "metadata": {},
   "outputs": [
    {
     "data": {
      "text/html": [
       "<div>\n",
       "<style scoped>\n",
       "    .dataframe tbody tr th:only-of-type {\n",
       "        vertical-align: middle;\n",
       "    }\n",
       "\n",
       "    .dataframe tbody tr th {\n",
       "        vertical-align: top;\n",
       "    }\n",
       "\n",
       "    .dataframe thead th {\n",
       "        text-align: right;\n",
       "    }\n",
       "</style>\n",
       "<table border=\"1\" class=\"dataframe\">\n",
       "  <thead>\n",
       "    <tr style=\"text-align: right;\">\n",
       "      <th></th>\n",
       "      <th>year_1</th>\n",
       "      <th>year_2</th>\n",
       "    </tr>\n",
       "  </thead>\n",
       "  <tbody>\n",
       "    <tr>\n",
       "      <th>0</th>\n",
       "      <td>RA</td>\n",
       "      <td>RA</td>\n",
       "    </tr>\n",
       "    <tr>\n",
       "      <th>1</th>\n",
       "      <td>RA</td>\n",
       "      <td>RA</td>\n",
       "    </tr>\n",
       "    <tr>\n",
       "      <th>2</th>\n",
       "      <td>B</td>\n",
       "      <td>B</td>\n",
       "    </tr>\n",
       "    <tr>\n",
       "      <th>3</th>\n",
       "      <td>D</td>\n",
       "      <td>D</td>\n",
       "    </tr>\n",
       "    <tr>\n",
       "      <th>4</th>\n",
       "      <td>B</td>\n",
       "      <td>B</td>\n",
       "    </tr>\n",
       "  </tbody>\n",
       "</table>\n",
       "</div>"
      ],
      "text/plain": [
       "  year_1 year_2\n",
       "0     RA     RA\n",
       "1     RA     RA\n",
       "2      B      B\n",
       "3      D      D\n",
       "4      B      B"
      ]
     },
     "execution_count": 169,
     "metadata": {},
     "output_type": "execute_result"
    }
   ],
   "source": [
    "X.head()"
   ]
  },
  {
   "cell_type": "code",
   "execution_count": 170,
   "id": "085b79c2",
   "metadata": {},
   "outputs": [
    {
     "data": {
      "text/html": [
       "<div>\n",
       "<style scoped>\n",
       "    .dataframe tbody tr th:only-of-type {\n",
       "        vertical-align: middle;\n",
       "    }\n",
       "\n",
       "    .dataframe tbody tr th {\n",
       "        vertical-align: top;\n",
       "    }\n",
       "\n",
       "    .dataframe thead th {\n",
       "        text-align: right;\n",
       "    }\n",
       "</style>\n",
       "<table border=\"1\" class=\"dataframe\">\n",
       "  <thead>\n",
       "    <tr style=\"text-align: right;\">\n",
       "      <th></th>\n",
       "      <th>year_3</th>\n",
       "    </tr>\n",
       "  </thead>\n",
       "  <tbody>\n",
       "    <tr>\n",
       "      <th>0</th>\n",
       "      <td>RA</td>\n",
       "    </tr>\n",
       "    <tr>\n",
       "      <th>1</th>\n",
       "      <td>RA</td>\n",
       "    </tr>\n",
       "    <tr>\n",
       "      <th>2</th>\n",
       "      <td>B</td>\n",
       "    </tr>\n",
       "    <tr>\n",
       "      <th>3</th>\n",
       "      <td>D</td>\n",
       "    </tr>\n",
       "    <tr>\n",
       "      <th>4</th>\n",
       "      <td>B</td>\n",
       "    </tr>\n",
       "  </tbody>\n",
       "</table>\n",
       "</div>"
      ],
      "text/plain": [
       "  year_3\n",
       "0     RA\n",
       "1     RA\n",
       "2      B\n",
       "3      D\n",
       "4      B"
      ]
     },
     "execution_count": 170,
     "metadata": {},
     "output_type": "execute_result"
    }
   ],
   "source": [
    "y.head()"
   ]
  },
  {
   "cell_type": "code",
   "execution_count": 171,
   "id": "2cb8cba2",
   "metadata": {},
   "outputs": [
    {
     "name": "stdout",
     "output_type": "stream",
     "text": [
      "4345 4345\n"
     ]
    }
   ],
   "source": [
    "print(len(X),len(y))"
   ]
  },
  {
   "cell_type": "code",
   "execution_count": 176,
   "id": "84b79ce0",
   "metadata": {},
   "outputs": [
    {
     "data": {
      "text/plain": [
       "B      1133\n",
       "A       682\n",
       "C       660\n",
       "AAA     418\n",
       "D       363\n",
       "RA      352\n",
       "A+      297\n",
       "D+      242\n",
       "O       198\n",
       "Name: year_1, dtype: int64"
      ]
     },
     "execution_count": 176,
     "metadata": {},
     "output_type": "execute_result"
    }
   ],
   "source": [
    "X.year_1.value_counts().sort_values(ascending=False)"
   ]
  },
  {
   "cell_type": "code",
   "execution_count": 178,
   "id": "666bfa25",
   "metadata": {},
   "outputs": [
    {
     "data": {
      "text/html": [
       "<div>\n",
       "<style scoped>\n",
       "    .dataframe tbody tr th:only-of-type {\n",
       "        vertical-align: middle;\n",
       "    }\n",
       "\n",
       "    .dataframe tbody tr th {\n",
       "        vertical-align: top;\n",
       "    }\n",
       "\n",
       "    .dataframe thead th {\n",
       "        text-align: right;\n",
       "    }\n",
       "</style>\n",
       "<table border=\"1\" class=\"dataframe\">\n",
       "  <thead>\n",
       "    <tr style=\"text-align: right;\">\n",
       "      <th></th>\n",
       "      <th>year_1_A</th>\n",
       "      <th>year_1_A+</th>\n",
       "      <th>year_1_AAA</th>\n",
       "      <th>year_1_B</th>\n",
       "      <th>year_1_C</th>\n",
       "      <th>year_1_D</th>\n",
       "      <th>year_1_D+</th>\n",
       "      <th>year_1_O</th>\n",
       "      <th>year_1_RA</th>\n",
       "      <th>year_2_A</th>\n",
       "      <th>year_2_A+</th>\n",
       "      <th>year_2_AAA</th>\n",
       "      <th>year_2_B</th>\n",
       "      <th>year_2_C</th>\n",
       "      <th>year_2_D</th>\n",
       "      <th>year_2_D+</th>\n",
       "      <th>year_2_O</th>\n",
       "      <th>year_2_RA</th>\n",
       "    </tr>\n",
       "  </thead>\n",
       "  <tbody>\n",
       "    <tr>\n",
       "      <th>0</th>\n",
       "      <td>0</td>\n",
       "      <td>0</td>\n",
       "      <td>0</td>\n",
       "      <td>0</td>\n",
       "      <td>0</td>\n",
       "      <td>0</td>\n",
       "      <td>0</td>\n",
       "      <td>0</td>\n",
       "      <td>1</td>\n",
       "      <td>0</td>\n",
       "      <td>0</td>\n",
       "      <td>0</td>\n",
       "      <td>0</td>\n",
       "      <td>0</td>\n",
       "      <td>0</td>\n",
       "      <td>0</td>\n",
       "      <td>0</td>\n",
       "      <td>1</td>\n",
       "    </tr>\n",
       "    <tr>\n",
       "      <th>1</th>\n",
       "      <td>0</td>\n",
       "      <td>0</td>\n",
       "      <td>0</td>\n",
       "      <td>0</td>\n",
       "      <td>0</td>\n",
       "      <td>0</td>\n",
       "      <td>0</td>\n",
       "      <td>0</td>\n",
       "      <td>1</td>\n",
       "      <td>0</td>\n",
       "      <td>0</td>\n",
       "      <td>0</td>\n",
       "      <td>0</td>\n",
       "      <td>0</td>\n",
       "      <td>0</td>\n",
       "      <td>0</td>\n",
       "      <td>0</td>\n",
       "      <td>1</td>\n",
       "    </tr>\n",
       "    <tr>\n",
       "      <th>2</th>\n",
       "      <td>0</td>\n",
       "      <td>0</td>\n",
       "      <td>0</td>\n",
       "      <td>1</td>\n",
       "      <td>0</td>\n",
       "      <td>0</td>\n",
       "      <td>0</td>\n",
       "      <td>0</td>\n",
       "      <td>0</td>\n",
       "      <td>0</td>\n",
       "      <td>0</td>\n",
       "      <td>0</td>\n",
       "      <td>1</td>\n",
       "      <td>0</td>\n",
       "      <td>0</td>\n",
       "      <td>0</td>\n",
       "      <td>0</td>\n",
       "      <td>0</td>\n",
       "    </tr>\n",
       "    <tr>\n",
       "      <th>3</th>\n",
       "      <td>0</td>\n",
       "      <td>0</td>\n",
       "      <td>0</td>\n",
       "      <td>0</td>\n",
       "      <td>0</td>\n",
       "      <td>1</td>\n",
       "      <td>0</td>\n",
       "      <td>0</td>\n",
       "      <td>0</td>\n",
       "      <td>0</td>\n",
       "      <td>0</td>\n",
       "      <td>0</td>\n",
       "      <td>0</td>\n",
       "      <td>0</td>\n",
       "      <td>1</td>\n",
       "      <td>0</td>\n",
       "      <td>0</td>\n",
       "      <td>0</td>\n",
       "    </tr>\n",
       "    <tr>\n",
       "      <th>4</th>\n",
       "      <td>0</td>\n",
       "      <td>0</td>\n",
       "      <td>0</td>\n",
       "      <td>1</td>\n",
       "      <td>0</td>\n",
       "      <td>0</td>\n",
       "      <td>0</td>\n",
       "      <td>0</td>\n",
       "      <td>0</td>\n",
       "      <td>0</td>\n",
       "      <td>0</td>\n",
       "      <td>0</td>\n",
       "      <td>1</td>\n",
       "      <td>0</td>\n",
       "      <td>0</td>\n",
       "      <td>0</td>\n",
       "      <td>0</td>\n",
       "      <td>0</td>\n",
       "    </tr>\n",
       "  </tbody>\n",
       "</table>\n",
       "</div>"
      ],
      "text/plain": [
       "   year_1_A  year_1_A+  year_1_AAA  year_1_B  year_1_C  year_1_D  year_1_D+  \\\n",
       "0         0          0           0         0         0         0          0   \n",
       "1         0          0           0         0         0         0          0   \n",
       "2         0          0           0         1         0         0          0   \n",
       "3         0          0           0         0         0         1          0   \n",
       "4         0          0           0         1         0         0          0   \n",
       "\n",
       "   year_1_O  year_1_RA  year_2_A  year_2_A+  year_2_AAA  year_2_B  year_2_C  \\\n",
       "0         0          1         0          0           0         0         0   \n",
       "1         0          1         0          0           0         0         0   \n",
       "2         0          0         0          0           0         1         0   \n",
       "3         0          0         0          0           0         0         0   \n",
       "4         0          0         0          0           0         1         0   \n",
       "\n",
       "   year_2_D  year_2_D+  year_2_O  year_2_RA  \n",
       "0         0          0         0          1  \n",
       "1         0          0         0          1  \n",
       "2         0          0         0          0  \n",
       "3         1          0         0          0  \n",
       "4         0          0         0          0  "
      ]
     },
     "execution_count": 178,
     "metadata": {},
     "output_type": "execute_result"
    }
   ],
   "source": [
    "X_encoded = pd.get_dummies(X,columns=['year_1','year_2'])\n",
    "X_encoded.head()"
   ]
  },
  {
   "cell_type": "code",
   "execution_count": 180,
   "id": "04ac9e28",
   "metadata": {},
   "outputs": [
    {
     "data": {
      "text/plain": [
       "array(['RA', 'B', 'D', 'O', 'C', 'A', 'A+', 'D+', 'AAA'], dtype=object)"
      ]
     },
     "execution_count": 180,
     "metadata": {},
     "output_type": "execute_result"
    }
   ],
   "source": [
    "y.year_3.unique()"
   ]
  },
  {
   "cell_type": "code",
   "execution_count": 181,
   "id": "e5cc0ef5",
   "metadata": {},
   "outputs": [],
   "source": [
    "switcher = { \"O\": 1, \"D+\": 2, \"D\": 3, \"A+\": 4, \"A\": 5, \"B\": 6, \"C\": 7, \"RA\": 8, \"AAA\": 9}"
   ]
  },
  {
   "cell_type": "code",
   "execution_count": 182,
   "id": "6363d786",
   "metadata": {},
   "outputs": [],
   "source": [
    "y_encoded = y.replace({\"year_3\": switcher})"
   ]
  },
  {
   "cell_type": "code",
   "execution_count": 188,
   "id": "f803733d",
   "metadata": {},
   "outputs": [
    {
     "data": {
      "text/html": [
       "<div>\n",
       "<style scoped>\n",
       "    .dataframe tbody tr th:only-of-type {\n",
       "        vertical-align: middle;\n",
       "    }\n",
       "\n",
       "    .dataframe tbody tr th {\n",
       "        vertical-align: top;\n",
       "    }\n",
       "\n",
       "    .dataframe thead th {\n",
       "        text-align: right;\n",
       "    }\n",
       "</style>\n",
       "<table border=\"1\" class=\"dataframe\">\n",
       "  <thead>\n",
       "    <tr style=\"text-align: right;\">\n",
       "      <th></th>\n",
       "      <th>year_3</th>\n",
       "    </tr>\n",
       "  </thead>\n",
       "  <tbody>\n",
       "    <tr>\n",
       "      <th>0</th>\n",
       "      <td>8</td>\n",
       "    </tr>\n",
       "    <tr>\n",
       "      <th>1</th>\n",
       "      <td>8</td>\n",
       "    </tr>\n",
       "    <tr>\n",
       "      <th>2</th>\n",
       "      <td>6</td>\n",
       "    </tr>\n",
       "    <tr>\n",
       "      <th>3</th>\n",
       "      <td>3</td>\n",
       "    </tr>\n",
       "    <tr>\n",
       "      <th>4</th>\n",
       "      <td>6</td>\n",
       "    </tr>\n",
       "  </tbody>\n",
       "</table>\n",
       "</div>"
      ],
      "text/plain": [
       "   year_3\n",
       "0       8\n",
       "1       8\n",
       "2       6\n",
       "3       3\n",
       "4       6"
      ]
     },
     "execution_count": 188,
     "metadata": {},
     "output_type": "execute_result"
    }
   ],
   "source": [
    "y_encoded.head()"
   ]
  },
  {
   "cell_type": "markdown",
   "id": "3a934ffe",
   "metadata": {},
   "source": [
    "# Basic Decision Tree Classification"
   ]
  },
  {
   "cell_type": "code",
   "execution_count": 207,
   "id": "3c815be2",
   "metadata": {},
   "outputs": [],
   "source": [
    "X_train,x_test,y_train,y_test = train_test_split(X_encoded, y_encoded,random_state =42)"
   ]
  },
  {
   "cell_type": "code",
   "execution_count": 208,
   "id": "776e5c13",
   "metadata": {},
   "outputs": [],
   "source": [
    "classifier = DecisionTreeClassifier(criterion='gini',random_state=42)\n",
    "classifier.fit(X_train,y_train)\n",
    "y_pred = classifier.predict(x_test)"
   ]
  },
  {
   "cell_type": "code",
   "execution_count": 209,
   "id": "18b6c428",
   "metadata": {},
   "outputs": [
    {
     "name": "stdout",
     "output_type": "stream",
     "text": [
      "Accuracy :  0.32750689972401104\n"
     ]
    }
   ],
   "source": [
    "print('Accuracy : ',metrics.accuracy_score(y_test,y_pred))"
   ]
  },
  {
   "cell_type": "code",
   "execution_count": 210,
   "id": "7092c800",
   "metadata": {},
   "outputs": [
    {
     "name": "stdout",
     "output_type": "stream",
     "text": [
      "Confusion Matrix\n"
     ]
    },
    {
     "data": {
      "image/png": "[encoded data removed]",
      "text/plain": [
       "<Figure size 432x288 with 1 Axes>"
      ]
     },
     "metadata": {
      "needs_background": "light"
     },
     "output_type": "display_data"
    }
   ],
   "source": [
    "print('Confusion Matrix')\n",
    "mat = metrics.confusion_matrix(y_test,y_pred)\n",
    "sns.heatmap(mat,square=True,annot=True,fmt='d',cbar=False)\n",
    "plt.xlabel('Predicted')\n",
    "plt.ylabel('Actual')\n",
    "plt.show()"
   ]
  },
  {
   "cell_type": "markdown",
   "id": "f20dbc0d",
   "metadata": {},
   "source": [
    "# Advanced Decision Tree Classification"
   ]
  },
  {
   "cell_type": "code",
   "execution_count": 212,
   "id": "9938e582",
   "metadata": {},
   "outputs": [],
   "source": [
    "clf_dt = DecisionTreeClassifier(random_state=42)\n",
    "clf_dt = clf_dt.fit(X_train,y_train)"
   ]
  },
  {
   "cell_type": "code",
   "execution_count": 213,
   "id": "99ab5c58",
   "metadata": {},
   "outputs": [
    {
     "data": {
      "image/png": "[encoded data removed]",
      "text/plain": [
       "<Figure size 1080x540 with 1 Axes>"
      ]
     },
     "metadata": {
      "needs_background": "light"
     },
     "output_type": "display_data"
    }
   ],
   "source": [
    "plt.figure(figsize=(15,7.5))\n",
    "plot_tree(clf_dt,filled=True,rounded=True,class_names=['RA', 'B', 'D', 'O', 'C', 'A', 'A+', 'D+', 'AAA'],feature_names=X_encoded.columns);"
   ]
  },
  {
   "cell_type": "code",
   "execution_count": 195,
   "id": "24099c8b",
   "metadata": {},
   "outputs": [
    {
     "data": {
      "text/plain": [
       "<sklearn.metrics._plot.confusion_matrix.ConfusionMatrixDisplay at 0x280b67b9a60>"
      ]
     },
     "execution_count": 195,
     "metadata": {},
     "output_type": "execute_result"
    },
    {
     "data": {
      "image/png": "[encoded data removed]",
      "text/plain": [
       "<Figure size 432x288 with 2 Axes>"
      ]
     },
     "metadata": {
      "needs_background": "light"
     },
     "output_type": "display_data"
    }
   ],
   "source": [
    "plot_confusion_matrix(clf_dt,x_test,y_test,display_labels=['RA', 'B', 'D', 'O', 'C', 'A', 'A+', 'D+', 'AAA'])"
   ]
  },
  {
   "cell_type": "markdown",
   "id": "9a414c79",
   "metadata": {},
   "source": [
    "## Cost Complexity Pruning Part 1: Visualize alpha"
   ]
  },
  {
   "cell_type": "code",
   "execution_count": 196,
   "id": "e09953d6",
   "metadata": {},
   "outputs": [],
   "source": [
    "path = clf_dt.cost_complexity_pruning_path(X_train,y_train) # it determines the value for alpha\n",
    "ccp_alphas = path.ccp_alphas  # extract different values for alpha\n",
    "ccp_alphas = ccp_alphas[:-1]  # exclude the maximum value for alpha\n",
    "\n",
    "clf_dts = []    # create an array that we will put decision trees\n",
    "\n",
    "for ccp_alpha in ccp_alphas:\n",
    "    clf_dt = DecisionTreeClassifier(random_state=0,ccp_alpha = ccp_alpha)\n",
    "    clf_dt.fit(X_train,y_train)\n",
    "    clf_dts.append(clf_dt)"
   ]
  },
  {
   "cell_type": "code",
   "execution_count": 197,
   "id": "70f091ae",
   "metadata": {},
   "outputs": [
    {
     "data": {
      "image/png": "[encoded data removed]",
      "text/plain": [
       "<Figure size 432x288 with 1 Axes>"
      ]
     },
     "metadata": {
      "needs_background": "light"
     },
     "output_type": "display_data"
    }
   ],
   "source": [
    "train_scores = [clf_dt.score(X_train,y_train) for clf_dt in clf_dts]\n",
    "test_scores = [clf_dt.score(x_test,y_test) for clf_dt in clf_dts]\n",
    "\n",
    "fig, ax = plt.subplots()\n",
    "ax.set_xlabel(\"alpha\")\n",
    "ax.set_ylabel(\"accuracy\")\n",
    "ax.set_title(\"Accuracy vs Alpha for training and test data\")\n",
    "ax.plot(ccp_alphas,train_scores,marker = \"o\",label = \"train\",drawstyle=\"steps-post\")\n",
    "ax.plot(ccp_alphas,test_scores,marker = \"o\",label = \"test\",drawstyle=\"steps-post\")\n",
    "ax.legend()\n",
    "plt.show()"
   ]
  },
  {
   "cell_type": "markdown",
   "id": "2b783001",
   "metadata": {},
   "source": [
    "## Cost Complexity Pruning Part 2 : Cross Validation For Finding the Best Alpha"
   ]
  },
  {
   "cell_type": "code",
   "execution_count": 198,
   "id": "3f330973",
   "metadata": {},
   "outputs": [
    {
     "data": {
      "text/plain": [
       "<AxesSubplot:xlabel='tree'>"
      ]
     },
     "execution_count": 198,
     "metadata": {},
     "output_type": "execute_result"
    },
    {
     "data": {
      "image/png": "[encoded data removed]",
      "text/plain": [
       "<Figure size 432x288 with 1 Axes>"
      ]
     },
     "metadata": {
      "needs_background": "light"
     },
     "output_type": "display_data"
    }
   ],
   "source": [
    "clf_dt = DecisionTreeClassifier(random_state = 42, ccp_alpha = 0.0005)\n",
    "\n",
    "scores = cross_val_score(clf_dt,X_train,y_train,cv = 5)\n",
    "df = pd.DataFrame(data={'tree' : range(5),'accuracy' : scores})\n",
    "\n",
    "df.plot(x = 'tree', y = 'accuracy', marker ='o',linestyle = '--')"
   ]
  },
  {
   "cell_type": "code",
   "execution_count": 199,
   "id": "2ccf0dfa",
   "metadata": {},
   "outputs": [
    {
     "data": {
      "text/plain": [
       "<AxesSubplot:xlabel='alpha'>"
      ]
     },
     "execution_count": 199,
     "metadata": {},
     "output_type": "execute_result"
    },
    {
     "data": {
      "image/png": "[encoded data removed]",
      "text/plain": [
       "<Figure size 432x288 with 1 Axes>"
      ]
     },
     "metadata": {
      "needs_background": "light"
     },
     "output_type": "display_data"
    }
   ],
   "source": [
    "alpha_loop_values = []\n",
    "\n",
    "for ccp_alpha in ccp_alphas:\n",
    "    clf_dt = DecisionTreeClassifier(random_state=0,ccp_alpha = ccp_alpha)\n",
    "    scores = cross_val_score(clf_dt,X_train,y_train,cv=5)\n",
    "    alpha_loop_values.append([ccp_alpha,np.mean(scores),np.std(scores)])\n",
    "    \n",
    "alpha_results = pd.DataFrame(alpha_loop_values,columns = ['alpha','mean_accuracy','std'])\n",
    "\n",
    "alpha_results.plot(x = 'alpha',y = 'mean_accuracy',yerr='std',marker = 'o',linestyle = '--')"
   ]
  },
  {
   "cell_type": "code",
   "execution_count": 217,
   "id": "af9c73fc",
   "metadata": {},
   "outputs": [
    {
     "data": {
      "text/html": [
       "<div>\n",
       "<style scoped>\n",
       "    .dataframe tbody tr th:only-of-type {\n",
       "        vertical-align: middle;\n",
       "    }\n",
       "\n",
       "    .dataframe tbody tr th {\n",
       "        vertical-align: top;\n",
       "    }\n",
       "\n",
       "    .dataframe thead th {\n",
       "        text-align: right;\n",
       "    }\n",
       "</style>\n",
       "<table border=\"1\" class=\"dataframe\">\n",
       "  <thead>\n",
       "    <tr style=\"text-align: right;\">\n",
       "      <th></th>\n",
       "      <th>alpha</th>\n",
       "      <th>mean_accuracy</th>\n",
       "      <th>std</th>\n",
       "    </tr>\n",
       "  </thead>\n",
       "  <tbody>\n",
       "    <tr>\n",
       "      <th>26</th>\n",
       "      <td>0.000306</td>\n",
       "      <td>0.313073</td>\n",
       "      <td>0.007104</td>\n",
       "    </tr>\n",
       "    <tr>\n",
       "      <th>27</th>\n",
       "      <td>0.000316</td>\n",
       "      <td>0.313073</td>\n",
       "      <td>0.007104</td>\n",
       "    </tr>\n",
       "    <tr>\n",
       "      <th>28</th>\n",
       "      <td>0.000324</td>\n",
       "      <td>0.313380</td>\n",
       "      <td>0.007254</td>\n",
       "    </tr>\n",
       "    <tr>\n",
       "      <th>29</th>\n",
       "      <td>0.000333</td>\n",
       "      <td>0.313380</td>\n",
       "      <td>0.007254</td>\n",
       "    </tr>\n",
       "    <tr>\n",
       "      <th>30</th>\n",
       "      <td>0.000373</td>\n",
       "      <td>0.313686</td>\n",
       "      <td>0.008214</td>\n",
       "    </tr>\n",
       "    <tr>\n",
       "      <th>31</th>\n",
       "      <td>0.000379</td>\n",
       "      <td>0.314300</td>\n",
       "      <td>0.008415</td>\n",
       "    </tr>\n",
       "    <tr>\n",
       "      <th>32</th>\n",
       "      <td>0.000393</td>\n",
       "      <td>0.314607</td>\n",
       "      <td>0.008625</td>\n",
       "    </tr>\n",
       "    <tr>\n",
       "      <th>33</th>\n",
       "      <td>0.000396</td>\n",
       "      <td>0.315834</td>\n",
       "      <td>0.009453</td>\n",
       "    </tr>\n",
       "    <tr>\n",
       "      <th>34</th>\n",
       "      <td>0.000399</td>\n",
       "      <td>0.315834</td>\n",
       "      <td>0.009453</td>\n",
       "    </tr>\n",
       "  </tbody>\n",
       "</table>\n",
       "</div>"
      ],
      "text/plain": [
       "       alpha  mean_accuracy       std\n",
       "26  0.000306       0.313073  0.007104\n",
       "27  0.000316       0.313073  0.007104\n",
       "28  0.000324       0.313380  0.007254\n",
       "29  0.000333       0.313380  0.007254\n",
       "30  0.000373       0.313686  0.008214\n",
       "31  0.000379       0.314300  0.008415\n",
       "32  0.000393       0.314607  0.008625\n",
       "33  0.000396       0.315834  0.009453\n",
       "34  0.000399       0.315834  0.009453"
      ]
     },
     "execution_count": 217,
     "metadata": {},
     "output_type": "execute_result"
    }
   ],
   "source": [
    "alpha_results[(alpha_results['alpha'] > 0.0003) & (alpha_results['alpha'] < 0.0004)]"
   ]
  },
  {
   "cell_type": "code",
   "execution_count": 222,
   "id": "4c1b33f4",
   "metadata": {},
   "outputs": [
    {
     "data": {
      "text/plain": [
       "11    0.000164\n",
       "Name: alpha, dtype: float64"
      ]
     },
     "execution_count": 222,
     "metadata": {},
     "output_type": "execute_result"
    }
   ],
   "source": [
    "ideal_ccp_alpha = alpha_results[(alpha_results['alpha'] > 0.00015) & (alpha_results['alpha'] < 0.00017)]['alpha']\n",
    "ideal_ccp_alpha"
   ]
  },
  {
   "cell_type": "code",
   "execution_count": 223,
   "id": "74bf034c",
   "metadata": {},
   "outputs": [
    {
     "data": {
      "text/plain": [
       "0.0001636996112134234"
      ]
     },
     "execution_count": 223,
     "metadata": {},
     "output_type": "execute_result"
    }
   ],
   "source": [
    "ideal_ccp_alpha = float(ideal_ccp_alpha)\n",
    "ideal_ccp_alpha"
   ]
  },
  {
   "cell_type": "markdown",
   "id": "eb83e4d3",
   "metadata": {},
   "source": [
    "## Building,Evaluating,Drawing and Interpreting the Final Classification Tree"
   ]
  },
  {
   "cell_type": "code",
   "execution_count": 224,
   "id": "5a8b62cb",
   "metadata": {},
   "outputs": [],
   "source": [
    "clf_dt_pruned = DecisionTreeClassifier(random_state = 42,ccp_alpha = ideal_ccp_alpha)\n",
    "clf_dt_pruned = clf_dt_pruned.fit(X_train,y_train)"
   ]
  },
  {
   "cell_type": "code",
   "execution_count": 225,
   "id": "1379426a",
   "metadata": {},
   "outputs": [
    {
     "data": {
      "text/plain": [
       "<sklearn.metrics._plot.confusion_matrix.ConfusionMatrixDisplay at 0x280b6777dc0>"
      ]
     },
     "execution_count": 225,
     "metadata": {},
     "output_type": "execute_result"
    },
    {
     "data": {
      "image/png": "[encoded data removed]",
      "text/plain": [
       "<Figure size 432x288 with 2 Axes>"
      ]
     },
     "metadata": {
      "needs_background": "light"
     },
     "output_type": "display_data"
    }
   ],
   "source": [
    "plot_confusion_matrix(clf_dt_pruned,x_test,y_test,display_labels=['RA', 'B', 'D', 'O', 'C', 'A', 'A+', 'D+', 'AAA'])"
   ]
  },
  {
   "cell_type": "code",
   "execution_count": 226,
   "id": "0b4cec09",
   "metadata": {},
   "outputs": [
    {
     "data": {
      "image/png": "[encoded data removed]",
      "text/plain": [
       "<Figure size 1080x540 with 1 Axes>"
      ]
     },
     "metadata": {
      "needs_background": "light"
     },
     "output_type": "display_data"
    }
   ],
   "source": [
    "plt.figure(figsize=(15,7.5))\n",
    "plot_tree(clf_dt_pruned,filled=True,rounded=True,class_names=['RA', 'B', 'D', 'O', 'C', 'A', 'A+', 'D+', 'AAA'],feature_names=X_encoded.columns);"
   ]
  },
  {
   "cell_type": "code",
   "execution_count": 252,
   "id": "cffff9a6",
   "metadata": {},
   "outputs": [],
   "source": [
    "# save the model to disk\n",
    "filename = 'finalized_grade_prediction.pkl'\n",
    "pkl.dump(clf_dt_pruned, open(filename, 'wb'))"
   ]
  },
  {
   "cell_type": "code",
   "execution_count": 253,
   "id": "708195a1",
   "metadata": {},
   "outputs": [],
   "source": [
    "#load the model from disk\n",
    "filename = 'finalized_grade_prediction.pkl'\n",
    "classifier = pkl.load(open(filename, 'rb'))"
   ]
  },
  {
   "cell_type": "markdown",
   "id": "8277c70d",
   "metadata": {},
   "source": [
    "# Manual Testing"
   ]
  },
  {
   "cell_type": "code",
   "execution_count": 235,
   "id": "04be7816",
   "metadata": {},
   "outputs": [
    {
     "data": {
      "text/html": [
       "<div>\n",
       "<style scoped>\n",
       "    .dataframe tbody tr th:only-of-type {\n",
       "        vertical-align: middle;\n",
       "    }\n",
       "\n",
       "    .dataframe tbody tr th {\n",
       "        vertical-align: top;\n",
       "    }\n",
       "\n",
       "    .dataframe thead th {\n",
       "        text-align: right;\n",
       "    }\n",
       "</style>\n",
       "<table border=\"1\" class=\"dataframe\">\n",
       "  <thead>\n",
       "    <tr style=\"text-align: right;\">\n",
       "      <th></th>\n",
       "      <th>year_1_A</th>\n",
       "      <th>year_1_A+</th>\n",
       "      <th>year_1_AAA</th>\n",
       "      <th>year_1_B</th>\n",
       "      <th>year_1_C</th>\n",
       "      <th>year_1_D</th>\n",
       "      <th>year_1_D+</th>\n",
       "      <th>year_1_O</th>\n",
       "      <th>year_1_RA</th>\n",
       "      <th>year_2_A</th>\n",
       "      <th>year_2_A+</th>\n",
       "      <th>year_2_AAA</th>\n",
       "      <th>year_2_B</th>\n",
       "      <th>year_2_C</th>\n",
       "      <th>year_2_D</th>\n",
       "      <th>year_2_D+</th>\n",
       "      <th>year_2_O</th>\n",
       "      <th>year_2_RA</th>\n",
       "    </tr>\n",
       "  </thead>\n",
       "  <tbody>\n",
       "    <tr>\n",
       "      <th>2860</th>\n",
       "      <td>1</td>\n",
       "      <td>0</td>\n",
       "      <td>0</td>\n",
       "      <td>0</td>\n",
       "      <td>0</td>\n",
       "      <td>0</td>\n",
       "      <td>0</td>\n",
       "      <td>0</td>\n",
       "      <td>0</td>\n",
       "      <td>0</td>\n",
       "      <td>1</td>\n",
       "      <td>0</td>\n",
       "      <td>0</td>\n",
       "      <td>0</td>\n",
       "      <td>0</td>\n",
       "      <td>0</td>\n",
       "      <td>0</td>\n",
       "      <td>0</td>\n",
       "    </tr>\n",
       "  </tbody>\n",
       "</table>\n",
       "</div>"
      ],
      "text/plain": [
       "      year_1_A  year_1_A+  year_1_AAA  year_1_B  year_1_C  year_1_D  \\\n",
       "2860         1          0           0         0         0         0   \n",
       "\n",
       "      year_1_D+  year_1_O  year_1_RA  year_2_A  year_2_A+  year_2_AAA  \\\n",
       "2860          0         0          0         0          1           0   \n",
       "\n",
       "      year_2_B  year_2_C  year_2_D  year_2_D+  year_2_O  year_2_RA  \n",
       "2860         0         0         0          0         0          0  "
      ]
     },
     "execution_count": 235,
     "metadata": {},
     "output_type": "execute_result"
    }
   ],
   "source": [
    "x_test.iloc[:1,:]"
   ]
  },
  {
   "cell_type": "code",
   "execution_count": 236,
   "id": "d6da9771",
   "metadata": {},
   "outputs": [
    {
     "data": {
      "text/plain": [
       "Index(['year_1_A', 'year_1_A+', 'year_1_AAA', 'year_1_B', 'year_1_C',\n",
       "       'year_1_D', 'year_1_D+', 'year_1_O', 'year_1_RA', 'year_2_A',\n",
       "       'year_2_A+', 'year_2_AAA', 'year_2_B', 'year_2_C', 'year_2_D',\n",
       "       'year_2_D+', 'year_2_O', 'year_2_RA'],\n",
       "      dtype='object')"
      ]
     },
     "execution_count": 236,
     "metadata": {},
     "output_type": "execute_result"
    }
   ],
   "source": [
    "x_test.columns"
   ]
  },
  {
   "cell_type": "code",
   "execution_count": 246,
   "id": "e5c861b6",
   "metadata": {},
   "outputs": [
    {
     "data": {
      "text/html": [
       "<div>\n",
       "<style scoped>\n",
       "    .dataframe tbody tr th:only-of-type {\n",
       "        vertical-align: middle;\n",
       "    }\n",
       "\n",
       "    .dataframe tbody tr th {\n",
       "        vertical-align: top;\n",
       "    }\n",
       "\n",
       "    .dataframe thead th {\n",
       "        text-align: right;\n",
       "    }\n",
       "</style>\n",
       "<table border=\"1\" class=\"dataframe\">\n",
       "  <thead>\n",
       "    <tr style=\"text-align: right;\">\n",
       "      <th></th>\n",
       "      <th>year_1_A</th>\n",
       "      <th>year_1_A+</th>\n",
       "      <th>year_1_AAA</th>\n",
       "      <th>year_1_B</th>\n",
       "      <th>year_1_C</th>\n",
       "      <th>year_1_D</th>\n",
       "      <th>year_1_D+</th>\n",
       "      <th>year_1_O</th>\n",
       "      <th>year_1_RA</th>\n",
       "      <th>year_2_A</th>\n",
       "      <th>year_2_A+</th>\n",
       "      <th>year_2_AAA</th>\n",
       "      <th>year_2_B</th>\n",
       "      <th>year_2_C</th>\n",
       "      <th>year_2_D</th>\n",
       "      <th>year_2_D+</th>\n",
       "      <th>year_2_O</th>\n",
       "      <th>year_2_RA</th>\n",
       "    </tr>\n",
       "  </thead>\n",
       "  <tbody>\n",
       "    <tr>\n",
       "      <th>0</th>\n",
       "      <td>0</td>\n",
       "      <td>0</td>\n",
       "      <td>0</td>\n",
       "      <td>0</td>\n",
       "      <td>0</td>\n",
       "      <td>0</td>\n",
       "      <td>0</td>\n",
       "      <td>1</td>\n",
       "      <td>0</td>\n",
       "      <td>0</td>\n",
       "      <td>1</td>\n",
       "      <td>0</td>\n",
       "      <td>0</td>\n",
       "      <td>0</td>\n",
       "      <td>0</td>\n",
       "      <td>0</td>\n",
       "      <td>0</td>\n",
       "      <td>0</td>\n",
       "    </tr>\n",
       "  </tbody>\n",
       "</table>\n",
       "</div>"
      ],
      "text/plain": [
       "   year_1_A  year_1_A+  year_1_AAA  year_1_B  year_1_C  year_1_D  year_1_D+  \\\n",
       "0         0          0           0         0         0         0          0   \n",
       "\n",
       "   year_1_O  year_1_RA  year_2_A  year_2_A+  year_2_AAA  year_2_B  year_2_C  \\\n",
       "0         1          0         0          1           0         0         0   \n",
       "\n",
       "   year_2_D  year_2_D+  year_2_O  year_2_RA  \n",
       "0         0          0         0          0  "
      ]
     },
     "execution_count": 246,
     "metadata": {},
     "output_type": "execute_result"
    }
   ],
   "source": [
    "manual_test = pd.DataFrame({'year_1_A': [0], 'year_1_A+': [0], 'year_1_AAA': [0], 'year_1_B': [0], 'year_1_C': [0],\n",
    "       'year_1_D': [0], 'year_1_D+': [0], 'year_1_O': [1], 'year_1_RA': [0], 'year_2_A': [0],\n",
    "       'year_2_A+': [1], 'year_2_AAA': [0], 'year_2_B': [0], 'year_2_C': [0], 'year_2_D': [0],\n",
    "       'year_2_D+': [0], 'year_2_O': [0], 'year_2_RA': [0]},columns=['year_1_A', 'year_1_A+', 'year_1_AAA', 'year_1_B', 'year_1_C',\n",
    "       'year_1_D', 'year_1_D+', 'year_1_O', 'year_1_RA', 'year_2_A',\n",
    "       'year_2_A+', 'year_2_AAA', 'year_2_B', 'year_2_C', 'year_2_D',\n",
    "       'year_2_D+', 'year_2_O', 'year_2_RA'])\n",
    "manual_test.head()"
   ]
  },
  {
   "cell_type": "code",
   "execution_count": 254,
   "id": "d3f89edf",
   "metadata": {},
   "outputs": [
    {
     "data": {
      "text/plain": [
       "array([1], dtype=int64)"
      ]
     },
     "execution_count": 254,
     "metadata": {},
     "output_type": "execute_result"
    }
   ],
   "source": [
    "prediction = clf_dt_pruned.predict(manual_test)\n",
    "prediction"
   ]
  },
  {
   "cell_type": "code",
   "execution_count": 255,
   "id": "3ac09316",
   "metadata": {},
   "outputs": [],
   "source": [
    "switcher_reverse = {1: 'O',2: 'D+',3: 'D',4: 'A+',5: 'A',6: 'B',7: 'C',8: 'RA',9: 'AAA'}"
   ]
  },
  {
   "cell_type": "code",
   "execution_count": 256,
   "id": "716254a4",
   "metadata": {},
   "outputs": [
    {
     "name": "stdout",
     "output_type": "stream",
     "text": [
      "O\n"
     ]
    }
   ],
   "source": [
    "print(switcher_reverse.get(int(prediction)))"
   ]
  }
 ],
 "metadata": {
  "kernelspec": {
   "display_name": "Python 3 (ipykernel)",
   "language": "python",
   "name": "python3"
  },
  "language_info": {
   "codemirror_mode": {
    "name": "ipython",
    "version": 3
   },
   "file_extension": ".py",
   "mimetype": "text/x-python",
   "name": "python",
   "nbconvert_exporter": "python",
   "pygments_lexer": "ipython3",
   "version": "3.9.7"
  }
 },
 "nbformat": 4,
 "nbformat_minor": 5
}
